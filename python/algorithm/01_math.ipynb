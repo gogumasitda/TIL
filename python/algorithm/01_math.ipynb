{
 "cells": [
  {
   "cell_type": "code",
   "execution_count": 27,
   "metadata": {},
   "outputs": [
    {
     "name": "stdout",
     "output_type": "stream",
     "text": [
      "4\n",
      "-1\n"
     ]
    }
   ],
   "source": [
    "#not good\n",
    "inputN = int(input())\n",
    "\n",
    "quotient, remainder = divmod(inputN, 5)\n",
    "\n",
    "while quotient + 1:\n",
    "    if quotient == 0 and remainder % 3 !=0:\n",
    "        print(-1)\n",
    "        break\n",
    "    elif remainder % 3 != 0:\n",
    "        quotient -= 1\n",
    "        remainder += 5\n",
    "    else:\n",
    "        print(quotient + (remainder // 3))\n",
    "        break"
   ]
  },
  {
   "cell_type": "code",
   "execution_count": 31,
   "metadata": {},
   "outputs": [
    {
     "name": "stdout",
     "output_type": "stream",
     "text": [
      "16\n",
      "4\n"
     ]
    }
   ],
   "source": [
    "#short coding\n",
    "inputN = int(input())\n",
    "\n",
    "sum = 0\n",
    "\n",
    "quotient, remainder = divmod(inputN, 5)\n",
    "\n",
    "while quotient >= 0:\n",
    "    if remainder % 3 == 0:\n",
    "        sum = quotient + (remainder // 3)\n",
    "        break\n",
    "    quotient -= 1\n",
    "    remainder += 5\n",
    "print(sum or -1)"
   ]
  }
 ],
 "metadata": {
  "kernelspec": {
   "display_name": "Python 3",
   "language": "python",
   "name": "python3"
  },
  "language_info": {
   "codemirror_mode": {
    "name": "ipython",
    "version": 3
   },
   "file_extension": ".py",
   "mimetype": "text/x-python",
   "name": "python",
   "nbconvert_exporter": "python",
   "pygments_lexer": "ipython3",
   "version": "3.6.7"
  }
 },
 "nbformat": 4,
 "nbformat_minor": 2
}
