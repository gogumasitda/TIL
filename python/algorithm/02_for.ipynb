{
 "cells": [
  {
   "cell_type": "code",
   "execution_count": null,
   "metadata": {
    "scrolled": true
   },
   "outputs": [],
   "source": [
    "inputN = int(input())\n",
    "\n",
    "for i in range(inputN):\n",
    "    print(i+1)"
   ]
  },
  {
   "cell_type": "code",
   "execution_count": null,
   "metadata": {},
   "outputs": [],
   "source": [
    "inputN = int(input())\n",
    "\n",
    "for i in range(inputN, 0, -1):\n",
    "    print(i)"
   ]
  },
  {
   "cell_type": "code",
   "execution_count": null,
   "metadata": {},
   "outputs": [],
   "source": [
    "inputN = int(input())\n",
    "\n",
    "for i in range(9):\n",
    "    print(f\"{inputN} * {i+1} = {inputN*(i+1)}\")"
   ]
  },
  {
   "cell_type": "markdown",
   "metadata": {},
   "source": [
    "## 별 찍기"
   ]
  },
  {
   "cell_type": "code",
   "execution_count": null,
   "metadata": {},
   "outputs": [],
   "source": [
    "inputN = int(input())\n",
    "\n",
    "for i in range(inputN):\n",
    "    for j in range(i+1):\n",
    "        print(\"*\", end = \"\")\n",
    "    print()"
   ]
  },
  {
   "cell_type": "code",
   "execution_count": null,
   "metadata": {},
   "outputs": [],
   "source": [
    "inputN = int(input())\n",
    "\n",
    "for i in range(inputN):\n",
    "    for j in range(inputN - i):\n",
    "        print(\" \", end = \"\")\n",
    "    for k in range(i+1):\n",
    "        print(\"*\", end = \"\")\n",
    "    print()"
   ]
  },
  {
   "cell_type": "code",
   "execution_count": null,
   "metadata": {},
   "outputs": [],
   "source": [
    "inputN = int(input())\n",
    "\n",
    "for i in range(1, inputN + 1):\n",
    "    print(\" \" * (inputN - i) + \"*\" * (i))\n",
    "    "
   ]
  },
  {
   "cell_type": "code",
   "execution_count": null,
   "metadata": {},
   "outputs": [],
   "source": [
    "inputN = int(input())\n",
    "\n",
    "for i in range(0, inputN):\n",
    "    print(\"*\" * (inputN - i))"
   ]
  },
  {
   "cell_type": "code",
   "execution_count": null,
   "metadata": {},
   "outputs": [],
   "source": [
    "inputN = int(input())\n",
    "\n",
    "for i in range(0, inputN):\n",
    "    print(\" \" * (i) + \"*\" * (inputN - i))"
   ]
  },
  {
   "cell_type": "markdown",
   "metadata": {},
   "source": [
    "## 2007년"
   ]
  },
  {
   "cell_type": "code",
   "execution_count": 31,
   "metadata": {},
   "outputs": [
    {
     "name": "stdout",
     "output_type": "stream",
     "text": [
      "1 1\n",
      "MON\n"
     ]
    }
   ],
   "source": [
    "inputMonth, inputDay = map(int, input().split())\n",
    "\n",
    "sum = 0\n",
    "listDay = [\"SUN\", \"MON\", \"TUE\", \"WED\", \"THU\", \"FRI\", \"SAT\"]\n",
    "\n",
    "for i in range(1, inputMonth + 1):\n",
    "    if i == 5 or i == 7 or i == 10 or i == 12:\n",
    "        sum += 30\n",
    "    elif i  == 3:\n",
    "        sum += 28\n",
    "    elif i != 1:\n",
    "        sum += 31\n",
    "sum += inputDay\n",
    "sum %= 7\n",
    "print(listDay[sum])"
   ]
  },
  {
   "cell_type": "code",
   "execution_count": 30,
   "metadata": {},
   "outputs": [
    {
     "name": "stdout",
     "output_type": "stream",
     "text": [
      "1 1\n",
      "MON\n"
     ]
    }
   ],
   "source": [
    "import calendar\n",
    "\n",
    "inputM, inputD = map(int, input().split())\n",
    "listDay = [\"MON\", \"TUE\", \"WED\", \"THU\", \"FRI\", \"SAT\", \"SUN\"]\n",
    "\n",
    "weekDays = calendar.weekday(2007, inputM, inputD)\n",
    "\n",
    "print(listDay[weekDays])"
   ]
  },
  {
   "cell_type": "code",
   "execution_count": 26,
   "metadata": {},
   "outputs": [
    {
     "name": "stdout",
     "output_type": "stream",
     "text": [
      "1 1\n",
      "MON\n"
     ]
    }
   ],
   "source": [
    "inputM, inputD = map(int, input().split())\n",
    "\n",
    "listDay = [\"SUN\", \"MON\", \"TUE\", \"WED\", \"THU\", \"FRI\", \"SAT\"]\n",
    "daysMonth = [31, 28, 31, 30, 31, 30, 31, 31, 30, 31, 30, 31]\n",
    "sumDays = 0\n",
    "\n",
    "for i in range(2, inputM + 1):\n",
    "    sumDays += daysMonth[i-2]\n",
    "sumDays += inputD\n",
    "\n",
    "print(listDay[sumDays % 7])"
   ]
  },
  {
   "cell_type": "code",
   "execution_count": 32,
   "metadata": {},
   "outputs": [
    {
     "name": "stdout",
     "output_type": "stream",
     "text": [
      "3\n",
      "6\n"
     ]
    }
   ],
   "source": [
    "#8393\n",
    "inputN = int(input())\n",
    "sum = 0\n",
    "\n",
    "for i in range(1, inputN + 1):\n",
    "    sum += i\n",
    "\n",
    "print(sum)"
   ]
  },
  {
   "cell_type": "code",
   "execution_count": 35,
   "metadata": {},
   "outputs": [
    {
     "name": "stdout",
     "output_type": "stream",
     "text": [
      "5\n",
      "12345\n",
      "15\n"
     ]
    }
   ],
   "source": [
    "#11720\n",
    "sum = 0\n",
    "inputN = int(input())\n",
    "inputData = input()\n",
    "\n",
    "for i in range(inputN):\n",
    "    sum += int(inputData[i])\n",
    "    \n",
    "print(sum)"
   ]
  },
  {
   "cell_type": "code",
   "execution_count": 5,
   "metadata": {},
   "outputs": [
    {
     "name": "stdout",
     "output_type": "stream",
     "text": [
      "OneTwoThreeFourFiveSixSevenEightNineTen\n",
      "OneTwoThre\n",
      "eFourFiveS\n",
      "ixSevenEig\n",
      "htNineTen"
     ]
    }
   ],
   "source": [
    "#11721\n",
    "inputS = input()\n",
    "for i in range(len(inputS)):\n",
    "    print(inputS[i], end = \"\")\n",
    "    if (i + 1) % 10 == 0:\n",
    "        print()"
   ]
  },
  {
   "cell_type": "code",
   "execution_count": null,
   "metadata": {},
   "outputs": [],
   "source": [
    "#11721\n",
    "# a=str(input())\n",
    "\n",
    "# while len(a) >10:\n",
    "#     print(a[0:10],end='\\n')\n",
    "#     a = a[10:]\n",
    "# if len(a)<=10:\n",
    "#     print(a)\n",
    "\n",
    "inputS = input()\n",
    "\n",
    "while len(inputS) > 10:\n",
    "    print(inputS[0:10])\n",
    "    inputS = inputS[10:]\n",
    "if len(inputS) <= 10:\n",
    "    print(inputS)"
   ]
  }
 ],
 "metadata": {
  "kernelspec": {
   "display_name": "Python 3",
   "language": "python",
   "name": "python3"
  },
  "language_info": {
   "codemirror_mode": {
    "name": "ipython",
    "version": 3
   },
   "file_extension": ".py",
   "mimetype": "text/x-python",
   "name": "python",
   "nbconvert_exporter": "python",
   "pygments_lexer": "ipython3",
   "version": "3.6.7"
  }
 },
 "nbformat": 4,
 "nbformat_minor": 2
}
