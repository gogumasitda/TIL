{
 "cells": [
  {
   "cell_type": "code",
   "execution_count": null,
   "metadata": {},
   "outputs": [],
   "source": [
    "#9498\n",
    "inputScore = int(input())\n",
    "\n",
    "if inputScore >= 90:\n",
    "    print(\"A\")\n",
    "elif inputScore >= 80:\n",
    "    print(\"B\")\n",
    "elif inputScore >= 70:\n",
    "    print(\"C\")\n",
    "elif inputScore >= 60:\n",
    "    print(\"D\")\n",
    "else:\n",
    "    print(\"F\")"
   ]
  },
  {
   "cell_type": "code",
   "execution_count": null,
   "metadata": {},
   "outputs": [],
   "source": [
    "#10817\n",
    "inputList = list(map(int, input().split()))\n",
    "\n",
    "inputList.sort()\n",
    "\n",
    "print(inputList[1])"
   ]
  },
  {
   "cell_type": "code",
   "execution_count": null,
   "metadata": {},
   "outputs": [],
   "source": [
    "#10871\n",
    "inputN, inputX = map(int, input().split())\n",
    "listL = list(map(int, input().split()))\n",
    "\n",
    "for i in listL:\n",
    "    if inputX > i:\n",
    "        print(i, end = \" \")\n",
    "    "
   ]
  },
  {
   "cell_type": "code",
   "execution_count": null,
   "metadata": {},
   "outputs": [],
   "source": [
    "#1546\n",
    "inputN = int(input())\n",
    "listScore = list(map(int, input().split()))\n",
    "maxScore = max(listScore)\n",
    "sumScore = 0\n",
    "\n",
    "for i in listScore:\n",
    "    sumScore += (i*100)/maxScore\n",
    "print(sumScore/len(listScore))"
   ]
  },
  {
   "cell_type": "code",
   "execution_count": 2,
   "metadata": {},
   "outputs": [
    {
     "name": "stdout",
     "output_type": "stream",
     "text": [
      "1\n",
      "5 50 50 70 80 100\n",
      "2\n"
     ]
    }
   ],
   "source": [
    "#4344\n",
    "inputC = int(input())\n",
    "average = 0\n",
    "count = 0\n",
    "for i in range(inputC):\n",
    "    listOfStudent = list(map(int, input().split()))\n",
    "    average = sum(listOfStudent[1:])/listOfStudent[0]\n",
    "    for j in listOfStudent[1:] :\n",
    "        if j > average:\n",
    "            count += 1\n",
    "    \n",
    "    print(f\"{count}\")\n",
    "\n"
   ]
  }
 ],
 "metadata": {
  "kernelspec": {
   "display_name": "Python 3",
   "language": "python",
   "name": "python3"
  },
  "language_info": {
   "codemirror_mode": {
    "name": "ipython",
    "version": 3
   },
   "file_extension": ".py",
   "mimetype": "text/x-python",
   "name": "python",
   "nbconvert_exporter": "python",
   "pygments_lexer": "ipython3",
   "version": "3.6.7"
  }
 },
 "nbformat": 4,
 "nbformat_minor": 2
}
