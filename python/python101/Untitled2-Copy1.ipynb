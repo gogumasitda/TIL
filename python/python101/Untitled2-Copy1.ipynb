{
 "cells": [
  {
   "cell_type": "markdown",
   "metadata": {},
   "source": [
    "# D04_19.01.07_Homework\n",
    "## SSAFY_대전"
   ]
  },
  {
   "cell_type": "code",
   "execution_count": 2,
   "metadata": {
    "scrolled": true
   },
   "outputs": [
    {
     "name": "stdout",
     "output_type": "stream",
     "text": [
      "['False', 'None', 'True', 'and', 'as', 'assert', 'break', 'class', 'continue', 'def', 'del', 'elif', 'else', 'except', 'finally', 'for', 'from', 'global', 'if', 'import', 'in', 'is', 'lambda', 'nonlocal', 'not', 'or', 'pass', 'raise', 'return', 'try', 'while', 'with', 'yield']\n"
     ]
    }
   ],
   "source": [
    "#문제 1, Python에서 사용할 수 없는 식별자(예약어)를 찾아 3개만 작성하세요.\n",
    "import keyword\n",
    "\n",
    "print(keyword.kwlist)\n",
    "\n",
    "#정답: False, None, True 사용 불가능합니다."
   ]
  },
  {
   "cell_type": "code",
   "execution_count": 4,
   "metadata": {},
   "outputs": [
    {
     "name": "stdout",
     "output_type": "stream",
     "text": [
      "True\n"
     ]
    }
   ],
   "source": [
    "#문제 2, 파이썬에서 float는 실수를 표현하는 과정에서 같은 값으로 일치되지 않습니다.\n",
    "#따라서 아래의 값을 비교하기 위해 작성해야하는 코드를 작성하세요.\n",
    "import math\n",
    "\n",
    "a = 0.1 * 3\n",
    "b = 0.3\n",
    "\n",
    "print(math.isclose(a, b))"
   ]
  },
  {
   "cell_type": "code",
   "execution_count": 6,
   "metadata": {},
   "outputs": [
    {
     "name": "stdout",
     "output_type": "stream",
     "text": [
      "\"안녕, 철수야\"\n"
     ]
    }
   ],
   "source": [
    "#문제 3, \"안녕, 철수야\"를 String Interpolation을 사용하여 출력하세요.\n",
    "name = \"철수\"\n",
    "\n",
    "print(f\"\\\"안녕, {name}야\\\"\")"
   ]
  },
  {
   "cell_type": "code",
   "execution_count": null,
   "metadata": {},
   "outputs": [],
   "source": [
    "#문제 4, 다음 중 형변환시 오류가 발생하는 것은?\n",
    "\n",
    "# 1) str(1)\n",
    "# 2) int(\"30\")\n",
    "# 3) int(5)\n",
    "# 4) bool(\"50\")\n",
    "# 5) int(\"3.5\")\n",
    "\n",
    "#정답: 5"
   ]
  },
  {
   "cell_type": "code",
   "execution_count": 15,
   "metadata": {},
   "outputs": [],
   "source": [
    "#문제 5, 변경할 수 있는(mutable) 것과 변경 불가능한 것(immutable)을 분류하시오\n",
    "\n",
    "#string, list, tuple, range, set, dictionary\n",
    "\n",
    "#정답:\n",
    "#mutable: list, range, set, dictionary\n",
    "#immutable: String, tuple, "
   ]
  }
 ],
 "metadata": {
  "kernelspec": {
   "display_name": "Python 3",
   "language": "python",
   "name": "python3"
  },
  "language_info": {
   "codemirror_mode": {
    "name": "ipython",
    "version": 3
   },
   "file_extension": ".py",
   "mimetype": "text/x-python",
   "name": "python",
   "nbconvert_exporter": "python",
   "pygments_lexer": "ipython3",
   "version": "3.6.7"
  }
 },
 "nbformat": 4,
 "nbformat_minor": 2
}
