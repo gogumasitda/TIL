{
 "cells": [
  {
   "cell_type": "markdown",
   "metadata": {},
   "source": [
    "## D01 WORKSHOP"
   ]
  },
  {
   "cell_type": "markdown",
   "metadata": {},
   "source": [
    "**문제 0**\n",
    "- 1월부터 12월까지 다음과 같은 형태로 달력이 출력되도록 코드를 작성하세요.\n",
    "```bash\n",
    "1 월\n",
    "일 월 화 수 목 금 토\n",
    "1 2 3 4 5 6 7\n",
    "8 9 10 11 12 13 14\n",
    "15 16 17 18 19 20 21\n",
    "22 23 24 25 26 27 28\n",
    "29 30 31\n",
    "2 월\n",
    "일 월 화 수 목 금 토\n",
    "1 2 3 4 5 6 7\n",
    "8 9 10 11 12 13 14\n",
    "15 16 17 18 19 20 21\n",
    "22 23 24 25 26 27 28\n",
    "```"
   ]
  },
  {
   "cell_type": "code",
   "execution_count": null,
   "metadata": {},
   "outputs": [],
   "source": [
    "# 정답\n",
    "# import calendar\n",
    "\n",
    "# for i in range(1, 13):\n",
    "#     print(str(i) + \" 월\")\n",
    "#     print(\"일\\t월\\t화\\t수\\t목\\t금\\t토\", end = \"\")\n",
    "#     day, monthRange = calendar.monthrange(2018, i)\n",
    "#     for j in range(1, monthRange + 1):\n",
    "#         if j % 7 == 1:\n",
    "#             print()\n",
    "#         print(j, end =\"\\t\")\n",
    "#     print()\n",
    "    \n",
    "listDays = [31, 28, 31, 30, 31, 30, 31, 31, 30, 31, 30, 31]\n",
    "\n",
    "# for i in range(1, 13):\n",
    "#     print(str(i) + \" 월\")\n",
    "#     print(\"일\\t월\\t화\\t수\\t목\\t금\\t토\", end = \"\")\n",
    "#     for j in range(1, listDays[i-1] + 1):\n",
    "#         if j % 7 == 1:\n",
    "#             print()\n",
    "#         print(j, end =\"\\t\")\n",
    "#     print()\n",
    "\n",
    "# listDays = {1: 31, 2: 28, 3: 31, 4: 30, 5: 31, 6: 30, 7: 31, 8: 31, 9: 30, 10: 31, 11: 30, 12: 31}\n",
    "# count = 0\n",
    "\n",
    "# for i in range(1, 13):\n",
    "#     print(str(i) + \" 월\")\n",
    "#     print(\"일\\t월\\t화\\t수\\t목\\t금\\t토\", end = \"\")\n",
    "#     for j in range(1, listDays[i] + 1):\n",
    "#         if j % 7 == 1:\n",
    "#             print()\n",
    "#         print(j, end =\"\\t\")\n",
    "#     print()\n",
    "\n",
    "#탭 추가\n",
    "count = 0\n",
    "listDays = [31, 28, 31, 30, 31, 30, 31, 31, 30, 31, 30, 31]\n",
    "for i in range(1, 13):\n",
    "    print(str(i) + \" 월\")\n",
    "    print(\"일\\t월\\t화\\t수\\t목\\t금\\t토\")\n",
    "    if i > 1:\n",
    "        count = ((listDays[i - 2] + count) % 7)\n",
    "    print(\"\\t\" * count, end = \"\")\n",
    "    for j in range(1, listDays[i-1] + 1):\n",
    "        if j != 1 and (j + count) % 7 == 1:\n",
    "            print()\n",
    "        print(j, end =\"\\t\")\n",
    "    print()\n",
    "\n",
    "# 탭 추가(홍준이ver)\n",
    "# count = 0\n",
    "# listDays = [31, 28, 31, 30, 31, 30, 31, 31, 30, 31, 30, 31]\n",
    "# for i in range(1, 13):\n",
    "#     print(str(i) + \" 월\")\n",
    "#     print(\"일\\t월\\t화\\t수\\t목\\t금\\t토\")\n",
    "#     print(\"\\t\" * count, end = \"\")\n",
    "#     for j in range(1, listDays[i-1] + 1):\n",
    "#         if (j + count) % 7 == 0:\n",
    "#             if j == listDays[i-1]:\n",
    "#                 print(j. end = \"\")\n",
    "#             print(j)\n",
    "#             continue\n",
    "#         print(j, end =\"\\t\")\n",
    "#     count = ((listDays[i - 1] + count) % 7)\n",
    "#     print()"
   ]
  },
  {
   "cell_type": "markdown",
   "metadata": {},
   "source": [
    "**문제 1**\n",
    "- 두 개의 정수 n과 m이 주어집니다. 반복문을 사용하지 않고 별(*) 문자를 이용해 가로의 길이가 n, 세로의 길이가 m인 직사각형 형태를 출력해보세요."
   ]
  },
  {
   "cell_type": "code",
   "execution_count": null,
   "metadata": {},
   "outputs": [],
   "source": [
    "# 문제\n",
    "n = 5\n",
    "m = 9"
   ]
  },
  {
   "cell_type": "code",
   "execution_count": null,
   "metadata": {},
   "outputs": [],
   "source": [
    "# 정답\n",
    "print((\"*\" * n + \"\\n\") * m)"
   ]
  },
  {
   "cell_type": "markdown",
   "metadata": {},
   "source": [
    "**문제2**\n",
    "- 다음 딕셔너리에서 평균 점수를 출력하시오."
   ]
  },
  {
   "cell_type": "code",
   "execution_count": null,
   "metadata": {},
   "outputs": [],
   "source": [
    "# 문제\n",
    "student = {'python': 80, 'algorithm': 99, 'django': 89, 'flask': 83}"
   ]
  },
  {
   "cell_type": "code",
   "execution_count": null,
   "metadata": {},
   "outputs": [],
   "source": [
    "# 정답\n",
    "sum =0\n",
    "\n",
    "for i in student.values():\n",
    "    sum += int(i)\n",
    "print(sum / len(student))"
   ]
  },
  {
   "cell_type": "code",
   "execution_count": 4,
   "metadata": {},
   "outputs": [
    {
     "name": "stdout",
     "output_type": "stream",
     "text": [
      "87.75\n"
     ]
    }
   ],
   "source": [
    "student = {'python': 80, 'algorithm': 99, 'django': 89, 'flask': 83}\n",
    "average = sum(student.values()) / len(student)\n",
    "print(average)"
   ]
  },
  {
   "cell_type": "markdown",
   "metadata": {},
   "source": [
    "**문제3**\n",
    "- 다음은 학생들의 혈액형(A, B, AB, O)에 대한 데이터이다. for문을 이용하여 각 혈액형 별 학생수의 합계를 구하시오."
   ]
  },
  {
   "cell_type": "code",
   "execution_count": 5,
   "metadata": {},
   "outputs": [],
   "source": [
    "# 문제\n",
    "blood_types = ['A', 'B', 'A', 'O', 'AB', 'AB', 'O', 'A', 'B', 'O', 'B', 'AB']"
   ]
  },
  {
   "cell_type": "code",
   "execution_count": null,
   "metadata": {},
   "outputs": [],
   "source": [
    "# 정답\n",
    "blood_types_count = {\"A\": 0, \"B\": 0, \"AB\": 0, \"O\": 0}\n",
    "\n",
    "for i in blood_types:\n",
    "    blood_types_count[i] += 1\n",
    "    \n",
    "print(blood_types_count)"
   ]
  },
  {
   "cell_type": "code",
   "execution_count": 8,
   "metadata": {},
   "outputs": [
    {
     "name": "stdout",
     "output_type": "stream",
     "text": [
      "{'A': 3, 'B': 3, 'O': 3, 'AB': 3}\n"
     ]
    }
   ],
   "source": [
    "result ={}\n",
    "\n",
    "for i in blood_types:\n",
    "    if i in result:\n",
    "        result[i] += 1\n",
    "    else:\n",
    "        result[i] = 1\n",
    "    \n",
    "print(result)"
   ]
  }
 ],
 "metadata": {
  "kernelspec": {
   "display_name": "Python 3",
   "language": "python",
   "name": "python3"
  },
  "language_info": {
   "codemirror_mode": {
    "name": "ipython",
    "version": 3
   },
   "file_extension": ".py",
   "mimetype": "text/x-python",
   "name": "python",
   "nbconvert_exporter": "python",
   "pygments_lexer": "ipython3",
   "version": "3.6.7"
  },
  "toc": {
   "base_numbering": 1,
   "nav_menu": {},
   "number_sections": true,
   "sideBar": true,
   "skip_h1_title": false,
   "title_cell": "Table of Contents",
   "title_sidebar": "Contents",
   "toc_cell": false,
   "toc_position": {},
   "toc_section_display": true,
   "toc_window_display": false
  }
 },
 "nbformat": 4,
 "nbformat_minor": 2
}
