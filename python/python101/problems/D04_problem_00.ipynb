{
 "cells": [
  {
   "cell_type": "markdown",
   "metadata": {},
   "source": [
    "## 최대공약수, 최소공배수 구하기\n",
    "\n",
    "> 두 수를 입력받아 두 수의 최대공약수와 최소공배수를 반환하는 함수, gcdlcm을 완성해 보세요.\n",
    ">\n",
    "> 배열의 맨 앞에 최대공약수, 그다음 최소공배수를 넣어 반환하면 됩니다. \n",
    ">\n",
    "> 예를 들어 두 수 3, 12의 최대공약수는 3, 최소공배수는 12이므로 `gcdlcm(3, 12)`는 `[3, 12]`를 반환해야 합니다. \n",
    "\n",
    "예시)\n",
    "\n",
    "```python\n",
    "gcdlcm(3, 12) #=> [3, 12]\n",
    "gcdlcm(1071, 1029) #=> [21, 52479]\n",
    "```"
   ]
  },
  {
   "cell_type": "code",
   "execution_count": 14,
   "metadata": {},
   "outputs": [],
   "source": [
    "# 여기에 코드를 작성하세요.\n",
    "def gcdlcm(first_number, second_number):\n",
    "    gcdlcm = []\n",
    "    gcd = 1\n",
    "    lcm = 1\n",
    "    \n",
    "    for i in range(2, first_number + 1):\n",
    "        if first_number % i == 0 and second_number % i == 0:\n",
    "            gcd = i\n",
    "    gcdlcm.append(gcd)\n",
    "    \n",
    "    lcm = gcd * int(first_number / gcd) * int(second_number / gcd)\n",
    "    gcdlcm.append(lcm)\n",
    "    return gcdlcm"
   ]
  },
  {
   "cell_type": "code",
   "execution_count": 151,
   "metadata": {},
   "outputs": [],
   "source": [
    "#유클리드 호제법\n",
    "def gcdlcm(first_number, second_number):\n",
    "    gcdlcm = []\n",
    "    gcd = euclidian(first_number, second_number)\n",
    "    gcdlcm.append(gcd)\n",
    "    gcdlcm.append(int((first_number*second_number)/gcd))\n",
    "    \n",
    "    return gcdlcm\n",
    "    \n",
    "def euclidian(first_number, second_number):\n",
    "    remainder = second_number % first_number\n",
    "    if remainder == 0:\n",
    "        return first_number\n",
    "    else:\n",
    "        gcd = euclidian(remainder, first_number)\n",
    "    return gcd"
   ]
  },
  {
   "cell_type": "code",
   "execution_count": 44,
   "metadata": {},
   "outputs": [],
   "source": [
    "def gcdlcm(num1, num2):\n",
    "    a, b = max(num1, num2), min(num1, num2)\n",
    "    while b > 0:\n",
    "        a, b = b, a % b\n",
    "    return [a, int(num1*num2/a)]"
   ]
  },
  {
   "cell_type": "code",
   "execution_count": 159,
   "metadata": {},
   "outputs": [],
   "source": [
    "#선생님 풀이\n",
    "def gcdlcm(n, m):\n",
    "    a, b = max(n, m), min(n, m)\n",
    "    while b > 0:\n",
    "        a, b = b, a % b\n",
    "    return [a, int(n*m/a)]"
   ]
  },
  {
   "cell_type": "code",
   "execution_count": 45,
   "metadata": {},
   "outputs": [
    {
     "name": "stdout",
     "output_type": "stream",
     "text": [
      "[3, 12]\n",
      "[21, 52479]\n"
     ]
    }
   ],
   "source": [
    "print(gcdlcm(3, 12))\n",
    "print(gcdlcm(1071, 1029))"
   ]
  },
  {
   "cell_type": "code",
   "execution_count": 40,
   "metadata": {},
   "outputs": [
    {
     "name": "stdout",
     "output_type": "stream",
     "text": [
      "olleh\n"
     ]
    }
   ],
   "source": [
    "s = \"hello\"\n",
    "print(s[len(s)-1:-len(s)-1:-1])"
   ]
  },
  {
   "cell_type": "markdown",
   "metadata": {},
   "source": [
    "## URL 편하게 만들기\n",
    "\n",
    "> url 패턴을 만들어 문자열을 반환하는 `my_url` 함수를 만들어봅시다.\n",
    ">\n",
    "> 영진위에서 제공하는 일별 박스오피스 API 서비스는 다음과 같은 방식으로 요청을 받습니다.\n",
    "\n",
    "```\n",
    "기본 요청 URL : http://www.kobis.or.kr/kobisopenapi/webservice/rest/boxoffice/searchDailyBoxOfficeList.json?\n",
    "```\n",
    "\n",
    "* key : 발급받은 키값(abc)\n",
    "* targetDt : yyyymmdd\n",
    "* itemPerPage : 1 ~ 10 **기본 10**\n",
    "---\n",
    "\n",
    "예시)\n",
    "```python\n",
    "api = {\n",
    "    'key': 'abc',\n",
    "    'targetDt': 'yyyymmdd'\n",
    "}\n",
    "my_url(**api)\n",
    "```\n",
    "\n",
    "예시 출력)\n",
    "```python\n",
    "'http://www.kobis.or.kr/kobisopenapi/webservice/rest/boxoffice/searchDailyBoxOfficeList.json?key=abc&targetDt=yyyymmdd&'\n",
    "```"
   ]
  },
  {
   "cell_type": "code",
   "execution_count": 217,
   "metadata": {},
   "outputs": [],
   "source": [
    "def my_url(itemPerPage = 10, **api):\n",
    "    complete_url = \"http://www.kobis.or.kr/kobisopenapi/webservice/rest/boxoffice/searchDailyBoxOfficeList.json?itemPerPage=\"\n",
    "    complete_url += str(itemPerPage) + \"&\"\n",
    "    \n",
    "    for key, value in api.items():\n",
    "        complete_url += str(key) + \"=\" + str(value) + \"&\"\n",
    "        \n",
    "    return complete_url"
   ]
  },
  {
   "cell_type": "code",
   "execution_count": 14,
   "metadata": {},
   "outputs": [],
   "source": [
    "def my_url(itemPerPage=10, **api):\n",
    "    url = 'http://www.kobis.or.kr/kobisopenapi/webservice/rest/boxoffice/searchDailyBoxOfficeList.json?'\n",
    "    \n",
    "    for key, value in api.items():\n",
    "        url = url + key + \"=\" + value + '&'\n",
    "    return url"
   ]
  },
  {
   "cell_type": "code",
   "execution_count": 17,
   "metadata": {},
   "outputs": [
    {
     "data": {
      "text/plain": [
       "'abc'"
      ]
     },
     "execution_count": 17,
     "metadata": {},
     "output_type": "execute_result"
    }
   ],
   "source": [
    "api = {\n",
    "    'key': '430156241533f1d058c603178cc3ca0e',\n",
    "    'targetDt': '20120101'\n",
    "}\n",
    "my_url(**api)"
   ]
  },
  {
   "cell_type": "markdown",
   "metadata": {},
   "source": [
    "## URL 검증하기\n",
    "\n",
    "> 이제 우리는 만들어진 요청 보내기전에 URL을 검증해야합니다. \n",
    ">\n",
    "> 앞선 설명을 참고하여 검증 로직을 구현하고 문자열을 반환하세요.\n",
    "\n",
    "```\n",
    "> 아래의 두가지 상황만 만들도록 하겠습니다. <\n",
    "\n",
    "1. key, targetDt가 없으면, '필수 요청변수가 누락되었습니다.'\n",
    "\n",
    "2. itemPerPage의 범위가 1~10을 넘어가면, '1~10까지의 값을 넣어주세요.'\n",
    "```"
   ]
  },
  {
   "cell_type": "code",
   "execution_count": 220,
   "metadata": {},
   "outputs": [
    {
     "data": {
      "text/plain": [
       "'1~10까지의 값을 넣어주세요.'"
      ]
     },
     "execution_count": 220,
     "metadata": {},
     "output_type": "execute_result"
    }
   ],
   "source": [
    "def my_url(itemPerPage = 10, **api):\n",
    "    complete_url = \"http://www.kobis.or.kr/kobisopenapi/webservice/rest/boxoffice/searchDailyBoxOfficeList.json?itemPerPage=\"\n",
    "    complete_url += str(itemPerPage) + \"&\"\n",
    "    \n",
    "    if \"key\" not in api.keys() or \"targetDt\" not in api.keys():\n",
    "#     if \"key\" not in api or \"targetDt\" not in api:\n",
    "        return \"필수 요청변수가 누락되었습니다.\"\n",
    "    elif itemPerPage < 1 or itemPerPage > 10:\n",
    "        return \"1~10까지의 값을 넣어주세요.\"\n",
    "    \n",
    "    for key, value in api.items():\n",
    "        complete_url += str(key) + \"=\" + str(value) + \"&\"\n",
    "    \n",
    "    return complete_url\n",
    "\n",
    "api = {\n",
    "    'key': '430156241533f1d058c603178cc3ca0e',\n",
    "    'targetDt': '20120101'\n",
    "}\n",
    "my_url(**api)\n",
    "\n",
    "my_url(**api)\n",
    "my_url(15, **api)"
   ]
  },
  {
   "cell_type": "code",
   "execution_count": 13,
   "metadata": {},
   "outputs": [
    {
     "name": "stdout",
     "output_type": "stream",
     "text": [
      "http://www.kobis.or.kr/kobisopenapi/webservice/rest/boxoffice/searchDailyBoxOfficeList.json?key=430156241533f1d058c603178cc3ca0e&targetDt=20120101&\n",
      "1~10까지의 값을 넣어주세요.\n"
     ]
    }
   ],
   "source": [
    "def my_url(itemPerPage=10, **api):\n",
    "    url='http://www.kobis.or.kr/kobisopenapi/webservice/rest/boxoffice/searchDailyBoxOfficeList.json?'\n",
    "    if itemPerPage < 1 or itemPerPage > 10:\n",
    "        return '1~10까지의 값을 넣어주세요.'\n",
    "    if 'key' not in api or 'targetDt' not in api:\n",
    "        return '필수 요청변수가 누락되었습니다.'\n",
    "    \n",
    "    for key, value in api.items():\n",
    "        url = url + key + '=' + value + '&'\n",
    "    return url\n",
    "\n",
    "print(my_url(**api))\n",
    "print(my_url(15, **api))"
   ]
  },
  {
   "cell_type": "code",
   "execution_count": 222,
   "metadata": {},
   "outputs": [
    {
     "data": {
      "text/plain": [
       "'1~10 까지의 값을 넣어주세요.'"
      ]
     },
     "execution_count": 222,
     "metadata": {},
     "output_type": "execute_result"
    }
   ],
   "source": [
    "def my_url(itemPerPage=10, **args):\n",
    "    if(\"key\" not in args or \"targetDt\" not in args) and int(itemPerPage) not in range(1, 11):\n",
    "        return \"필수 요청 변수가 누락되었으며 1~10 까지의 값을 넣어주세요.\"\n",
    "    elif \"key\" not in args or \"targetDt\" not in args:\n",
    "        return \"필수 요청변수가 누락되었습니다.\"\n",
    "    elif int(itemPerPage) not in range(1, 11):\n",
    "        return \"1~10 까지의 값을 넣어주세요.\"\n",
    "    else:\n",
    "        complete_url = \"http://www.kobis.or.kr/kobisopenapi/webservice/rest/boxoffice/searchDailyBoxOfficeList.json?itemPerPage=\"\n",
    "        complete_url += str(itemPerPage) + \"&\"\n",
    "        for key, value in api.items():\n",
    "            complete_url += str(key) + \"=\" + str(value) + \"&\"\n",
    "    \n",
    "        return complete_url\n",
    "    \n",
    "api = {\n",
    "    'key': '430156241533f1d058c603178cc3ca0e',\n",
    "    'targetDt': '20120101'\n",
    "}\n",
    "my_url(**api)\n",
    "\n",
    "my_url(**api)\n",
    "my_url(15, **api)"
   ]
  },
  {
   "cell_type": "markdown",
   "metadata": {},
   "source": [
    "### 양축평가"
   ]
  },
  {
   "cell_type": "code",
   "execution_count": null,
   "metadata": {},
   "outputs": [],
   "source": [
    "if \"key\" not in args or \"targetDt\" not in args:"
   ]
  },
  {
   "cell_type": "code",
   "execution_count": 223,
   "metadata": {},
   "outputs": [
    {
     "ename": "SyntaxError",
     "evalue": "invalid syntax (<ipython-input-223-7af43913f340>, line 1)",
     "output_type": "error",
     "traceback": [
      "\u001b[1;36m  File \u001b[1;32m\"<ipython-input-223-7af43913f340>\"\u001b[1;36m, line \u001b[1;32m1\u001b[0m\n\u001b[1;33m    if ()\u001b[0m\n\u001b[1;37m         ^\u001b[0m\n\u001b[1;31mSyntaxError\u001b[0m\u001b[1;31m:\u001b[0m invalid syntax\n"
     ]
    }
   ],
   "source": [
    "if (\"key\" or \"targetDt\") not in args:"
   ]
  }
 ],
 "metadata": {
  "kernelspec": {
   "display_name": "Python 3",
   "language": "python",
   "name": "python3"
  },
  "language_info": {
   "codemirror_mode": {
    "name": "ipython",
    "version": 3
   },
   "file_extension": ".py",
   "mimetype": "text/x-python",
   "name": "python",
   "nbconvert_exporter": "python",
   "pygments_lexer": "ipython3",
   "version": "3.6.7"
  },
  "toc": {
   "base_numbering": 1,
   "nav_menu": {},
   "number_sections": true,
   "sideBar": true,
   "skip_h1_title": false,
   "title_cell": "Table of Contents",
   "title_sidebar": "Contents",
   "toc_cell": false,
   "toc_position": {},
   "toc_section_display": true,
   "toc_window_display": false
  }
 },
 "nbformat": 4,
 "nbformat_minor": 2
}
